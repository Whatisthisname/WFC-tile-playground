{
 "cells": [
  {
   "cell_type": "code",
   "execution_count": 3,
   "metadata": {},
   "outputs": [
    {
     "ename": "error",
     "evalue": "video system not initialized",
     "output_type": "error",
     "traceback": [
      "\u001b[1;31m---------------------------------------------------------------------------\u001b[0m",
      "\u001b[1;31merror\u001b[0m                                     Traceback (most recent call last)",
      "\u001b[1;32mc:\\Users\\Theo\\Desktop\\Code\\PY Carcarsonne\\carcarsonne.ipynb Cell 1\u001b[0m in \u001b[0;36m<cell line: 64>\u001b[1;34m()\u001b[0m\n\u001b[0;32m     <a href='vscode-notebook-cell:/c%3A/Users/Theo/Desktop/Code/PY%20Carcarsonne/carcarsonne.ipynb#W0sZmlsZQ%3D%3D?line=61'>62</a>\u001b[0m pygame\u001b[39m.\u001b[39mdisplay\u001b[39m.\u001b[39mupdate()\n\u001b[0;32m     <a href='vscode-notebook-cell:/c%3A/Users/Theo/Desktop/Code/PY%20Carcarsonne/carcarsonne.ipynb#W0sZmlsZQ%3D%3D?line=63'>64</a>\u001b[0m \u001b[39mwhile\u001b[39;00m \u001b[39mTrue\u001b[39;00m:\n\u001b[1;32m---> <a href='vscode-notebook-cell:/c%3A/Users/Theo/Desktop/Code/PY%20Carcarsonne/carcarsonne.ipynb#W0sZmlsZQ%3D%3D?line=64'>65</a>\u001b[0m     \u001b[39mfor\u001b[39;00m event \u001b[39min\u001b[39;00m pygame\u001b[39m.\u001b[39;49mevent\u001b[39m.\u001b[39;49mget():\n\u001b[0;32m     <a href='vscode-notebook-cell:/c%3A/Users/Theo/Desktop/Code/PY%20Carcarsonne/carcarsonne.ipynb#W0sZmlsZQ%3D%3D?line=65'>66</a>\u001b[0m         \u001b[39mif\u001b[39;00m event\u001b[39m.\u001b[39mtype \u001b[39m==\u001b[39m pygame\u001b[39m.\u001b[39mQUIT:\n\u001b[0;32m     <a href='vscode-notebook-cell:/c%3A/Users/Theo/Desktop/Code/PY%20Carcarsonne/carcarsonne.ipynb#W0sZmlsZQ%3D%3D?line=66'>67</a>\u001b[0m             pygame\u001b[39m.\u001b[39mquit()\n",
      "\u001b[1;31merror\u001b[0m: video system not initialized"
     ]
    }
   ],
   "source": [
    "import sys\n",
    "if \"newtiles\" in sys.modules.keys():\n",
    "    del sys.modules[\"newtiles\"]\n",
    "import newtiles as t\n",
    "import pygame\n",
    "from typing import List\n",
    "import numpy as np\n",
    "\n",
    "try:\n",
    "    pygame.quit()\n",
    "except:\n",
    "    pass\n",
    "\n",
    "boardSize = 5\n",
    "screensize = 400\n",
    "tilesize = screensize // boardSize\n",
    "tiles = np.empty((boardSize, boardSize), dtype=t.Tile)\n",
    "\n",
    "pygame.init()\n",
    "\n",
    "pygame.display.set_caption('Carcarsonne tiles')\n",
    "screen = pygame.display.set_mode((screensize, screensize))\n",
    "screen.fill((100, 100, 100))\n",
    "\n",
    "\n",
    "\n",
    "for i in range(1, boardSize):\n",
    "    pygame.draw.line(screen, (0, 0, 0), (i * tilesize, 0), (i * tilesize, screensize), width=3)\n",
    "    pygame.draw.line(screen, (0, 0, 0), (0, i * tilesize), (screensize, i * tilesize), width=3)\n",
    "    \n",
    "pygame.event.pump()\n",
    "pygame.display.update()\n",
    "pygame.time.wait(300)\n",
    "\n",
    "\n",
    "straight_surf = pygame.image.load(\"roads/straight.png\")\n",
    "\n",
    "# curve =    t.ImageTile([\"grg\", \"grg\", \"ggg\", \"ggg\"], imagePath=\"roads/curve.png\")\n",
    "straight = t.ImageTile([\"ggg\", \"grg\", \"ggg\", \"grg\"], image_surface= straight_surf)\n",
    "# all = [t.Tile([np.random.random()] * 4) for _ in range(10)] + [curve, straight]\n",
    "\n",
    "\n",
    "# Create some random tiles first and draw them\n",
    "for i in range(boardSize):\n",
    "    for j in range(boardSize):\n",
    "        if True:\n",
    "            coords = np.array([i, j])\n",
    "\n",
    "            # amount = np.random.randint(1, len(all))\n",
    "            tiles[i, j] = t.TileCollection([straight])\n",
    "            # get a random value between 0 and 1\n",
    "\n",
    "            tiles[i, j].draw(screen, coords, tilesize)\n",
    "            \n",
    "            pygame.event.pump()\n",
    "            pygame.display.update()\n",
    "            pygame.time.wait(50)\n",
    "\n",
    "\n",
    "\n",
    "pygame.event.pump()\n",
    "pygame.display.update()\n",
    "\n",
    "while True:\n",
    "    for event in pygame.event.get():\n",
    "        if event.type == pygame.QUIT:\n",
    "            pygame.quit()\n",
    "        if event.type == pygame.KEYDOWN:\n",
    "            if event.key == pygame.K_ESCAPE:\n",
    "                pygame.quit()"
   ]
  },
  {
   "cell_type": "code",
   "execution_count": null,
   "metadata": {},
   "outputs": [],
   "source": []
  }
 ],
 "metadata": {
  "kernelspec": {
   "display_name": "Python 3.10.2 64-bit",
   "language": "python",
   "name": "python3"
  },
  "language_info": {
   "codemirror_mode": {
    "name": "ipython",
    "version": 3
   },
   "file_extension": ".py",
   "mimetype": "text/x-python",
   "name": "python",
   "nbconvert_exporter": "python",
   "pygments_lexer": "ipython3",
   "version": "3.10.2"
  },
  "orig_nbformat": 4,
  "vscode": {
   "interpreter": {
    "hash": "369f2c481f4da34e4445cda3fffd2e751bd1c4d706f27375911949ba6bb62e1c"
   }
  }
 },
 "nbformat": 4,
 "nbformat_minor": 2
}
