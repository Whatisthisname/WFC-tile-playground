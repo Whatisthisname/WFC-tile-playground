{
 "cells": [
  {
   "cell_type": "code",
   "execution_count": 1,
   "metadata": {},
   "outputs": [
    {
     "name": "stdout",
     "output_type": "stream",
     "text": [
      "pygame 2.1.2 (SDL 2.0.18, Python 3.10.2)\n",
      "Hello from the pygame community. https://www.pygame.org/contribute.html\n"
     ]
    }
   ],
   "source": [
    "import sys\n",
    "import pygame\n",
    "import numpy as np\n",
    "if \"newtiles\" in sys.modules.keys():\n",
    "    del sys.modules[\"newtiles\"]\n",
    "import newtiles"
   ]
  },
  {
   "cell_type": "code",
   "execution_count": 2,
   "metadata": {},
   "outputs": [],
   "source": [
    "import os\n",
    "\n",
    "boardSize = 5\n",
    "screensize = 400\n",
    "tilesize = screensize // boardSize\n",
    "tiles = np.empty((boardSize, boardSize), dtype=object)\n",
    "\n",
    "pygame.init()\n",
    "\n",
    "pygame.display.set_caption('Carcarsonne tiles')\n",
    "screen = pygame.display.set_mode((screensize, screensize))\n",
    "screen.fill((100, 100, 100))\n",
    "\n",
    "\n",
    "asurf = pygame.image.load(os.path.join('', 'gradient.png')).convert()\n",
    "asurf = pygame.transform.scale(asurf, (tilesize, tilesize))\n",
    "screen.blit(asurf, (0, 0))\n",
    "\n",
    "pygame.event.pump()\n",
    "pygame.display.update()\n",
    "\n",
    "for i in range(1, boardSize):\n",
    "    pygame.draw.line(screen, (0, 0, 0), (i * tilesize, 0), (i * tilesize, screensize), width=3)\n",
    "    pygame.draw.line(screen, (0, 0, 0), (0, i * tilesize), (screensize, i * tilesize), width=3)\n",
    "    \n",
    "\n",
    "for i in range(boardSize):\n",
    "    for j in range(boardSize):\n",
    "        screen.blit(asurf, (i * tilesize, j * tilesize))\n",
    "        pygame.event.pump()\n",
    "        pygame.display.update()\n",
    "        pygame.time.wait(100)  \n",
    "\n",
    "pygame.event.pump()\n",
    "pygame.display.update()\n",
    "\n",
    "for i in range(10):\n",
    "    pygame.time.wait(100)\n",
    "    pygame.event.pump()\n",
    "\n",
    "pygame.quit()"
   ]
  }
 ],
 "metadata": {
  "kernelspec": {
   "display_name": "Python 3.10.2 64-bit",
   "language": "python",
   "name": "python3"
  },
  "language_info": {
   "codemirror_mode": {
    "name": "ipython",
    "version": 3
   },
   "file_extension": ".py",
   "mimetype": "text/x-python",
   "name": "python",
   "nbconvert_exporter": "python",
   "pygments_lexer": "ipython3",
   "version": "3.10.2"
  },
  "orig_nbformat": 4,
  "vscode": {
   "interpreter": {
    "hash": "369f2c481f4da34e4445cda3fffd2e751bd1c4d706f27375911949ba6bb62e1c"
   }
  }
 },
 "nbformat": 4,
 "nbformat_minor": 2
}
